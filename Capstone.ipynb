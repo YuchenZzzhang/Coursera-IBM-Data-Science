{
 "cells": [
  {
   "cell_type": "markdown",
   "id": "b3a30745-b50e-4e3f-b3e9-199200e5a3ea",
   "metadata": {},
   "source": [
    "This Note book is used for the Coursera Applied Data Science capstone"
   ]
  },
  {
   "cell_type": "code",
   "execution_count": 1,
   "id": "a9816c4e-4615-40e8-9c60-89c9f2bce12b",
   "metadata": {},
   "outputs": [],
   "source": [
    "import pandas as pd\n",
    "import numpy as np\n"
   ]
  },
  {
   "cell_type": "code",
   "execution_count": 4,
   "id": "e9369b2f-8a74-4f61-a778-98cfde6643cb",
   "metadata": {},
   "outputs": [
    {
     "name": "stdout",
     "output_type": "stream",
     "text": [
      "Hello Capstone Project Course!\n"
     ]
    }
   ],
   "source": [
    "print('Hello Capstone Project Course!')"
   ]
  },
  {
   "cell_type": "code",
   "execution_count": null,
   "id": "56a4efdf-b582-4a85-a97c-62d8fb4321d9",
   "metadata": {},
   "outputs": [],
   "source": []
  }
 ],
 "metadata": {
  "kernelspec": {
   "display_name": "Python 3",
   "language": "python",
   "name": "python3"
  },
  "language_info": {
   "codemirror_mode": {
    "name": "ipython",
    "version": 3
   },
   "file_extension": ".py",
   "mimetype": "text/x-python",
   "name": "python",
   "nbconvert_exporter": "python",
   "pygments_lexer": "ipython3",
   "version": "3.8.8"
  }
 },
 "nbformat": 4,
 "nbformat_minor": 5
}
